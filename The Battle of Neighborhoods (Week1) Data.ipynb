{
    "cells": [
        {
            "cell_type": "markdown",
            "metadata": {
                "collapsed": true
            },
            "source": "### Capstone Project: The Battle of Neighborhoods (week 1)"
        },
        {
            "cell_type": "markdown",
            "metadata": {},
            "source": "For this week, you are required to submit the following: _Clearly define a problem or an idea of your choice, where you would need to leverage the Foursquare location data to solve or execute. Remember that data science problems always target an audience and are meant to help a group of stakeholders solve a problem, so make sure that you explicitly describe your audience and why they would care about your problem.\n\nThis submission will eventually become your Introduction/Business Problem section in your final report. So I recommend that you push the report (having your Introduction/Business Problem section only for now) to your Github repository and submit a link to it.\n\nA description of the data and how it will be used to solve the problem. (15 marks)"
        },
        {
            "cell_type": "markdown",
            "metadata": {},
            "source": "### 2. Data"
        },
        {
            "cell_type": "markdown",
            "metadata": {},
            "source": "In this section a description of the data and how it will be used to solve the problem is provided."
        },
        {
            "cell_type": "markdown",
            "metadata": {},
            "source": "### 2.1 Description of Data"
        },
        {
            "cell_type": "markdown",
            "metadata": {},
            "source": "In order to find the most promising borough for John the following data is needed:\n\n1. Average price per m\u00b2 of the apartments in Munich: This information is gathered through web scrabing from this webpage 'https://de.statista.com/statistik/daten/studie/260438/umfrage/mietpreise-in-muenchen-nach-bezirken/'. Some modifications need to be performed to transform the dataframe in a format that can be used for further analysis. Detailed steps can be found in the Data preparation section.\n\n2.Information about the venues in all boroughs of Munich (including those around Johns home): This information is gathered through web scrabing from this webpage 'https://www.muenchen.de/leben/service/postleitzahlen.html'. As the format does not fit our further data processing requirements, it needs to be transformed. Once the data is in the right format, the Geocoder Python package (https://geocoder.readthedocs.io/index.html) is used to receive the latitude and logitude coordinate for all of the boroughs. The boroughs and their corresponding latitude and longitude are used as input for FourSquare to source information about the boroughs."
        },
        {
            "cell_type": "markdown",
            "metadata": {},
            "source": "### 2.2 How will the data be used to solve the problem"
        },
        {
            "cell_type": "markdown",
            "metadata": {},
            "source": "We will start with an exploratory data analysis, where we intend to understand the underlying data. The describe method provides valuable insights for the \"average price per m\u00b2 of the apartments in Munich\" investigations.\n\nTo get a first impression about the distribution of venues in Munich, they are visualized using Folium map. The chosen color code will give immediate yet superficial insight, how John's favourite venues are distibuted across Munich and how the surrounding of his actual location looks like.\n\nFor the further analysis, the venues will be divided into two types: Firstly, we have a dataframe containing all venues of John's personal interest (i.e. parks, coffee stores, restaurants, bars and grocery stores) and one containing all other venues. This subdivision will let us analyse which boroughs are most similar to John's current neighborhood in terms of his personal preferences but also tells us which borough is most similar in terms of other venues. This ensures to find the top borough in terms of John's interests - which is of course the most important criterion - but also in terms of other venues.\n\nOne hot encoding and k-means will narrow the list of the most promising boroughs to three. Combining these three with the pricing analysis lets us recommend the best borough match for John.m"
        },
        {
            "cell_type": "markdown",
            "metadata": {},
            "source": "### 2.3 Importing Python Libraries"
        },
        {
            "cell_type": "code",
            "execution_count": 2,
            "metadata": {},
            "outputs": [
                {
                    "name": "stdout",
                    "output_type": "stream",
                    "text": "Libraries imported.\n"
                }
            ],
            "source": "import requests # library to handle requests\nimport pandas as pd # library for data analsysis\nimport numpy as np # library to handle data in a vectorized manner\nimport random # library for random number generation\nimport itertools\n\n#!conda install -c conda-forge geopy --yes \nfrom geopy.geocoders import Nominatim # module to convert an address into latitude and longitude values\nimport geocoder\n\n# libraries for displaying images\nfrom IPython.display import Image \nfrom IPython.core.display import HTML \n    \n# tranforming json file into a pandas dataframe library\nfrom pandas.io.json import json_normalize\n\n#!conda install -c conda-forge folium=0.5.0 --yes\nimport folium # plotting library\n\nprint('Libraries imported.')"
        },
        {
            "cell_type": "markdown",
            "metadata": {},
            "source": "### 2.4 Data Preprocessing"
        },
        {
            "cell_type": "markdown",
            "metadata": {},
            "source": "### a) Get boroughs of munich and corresponding postal code in Dataframe:"
        },
        {
            "cell_type": "markdown",
            "metadata": {},
            "source": "First of all,the boroughs of munich and the corresponding postal codes are scraped from the webpage: https://www.muenchen.de/leben/service/postleitzahlen.html and transformed the data into a pandas dataframe as shown below:"
        },
        {
            "cell_type": "code",
            "execution_count": 3,
            "metadata": {},
            "outputs": [
                {
                    "data": {
                        "text/html": "<div>\n<style scoped>\n    .dataframe tbody tr th:only-of-type {\n        vertical-align: middle;\n    }\n\n    .dataframe tbody tr th {\n        vertical-align: top;\n    }\n\n    .dataframe thead th {\n        text-align: right;\n    }\n</style>\n<table border=\"1\" class=\"dataframe\">\n  <thead>\n    <tr style=\"text-align: right;\">\n      <th></th>\n      <th>Stadtteil</th>\n      <th>Postleitzahl</th>\n    </tr>\n  </thead>\n  <tbody>\n    <tr>\n      <th>0</th>\n      <td>Allach-Untermenzing</td>\n      <td>80995, 80997, 80999, 81247, 81249</td>\n    </tr>\n    <tr>\n      <th>1</th>\n      <td>Altstadt-Lehel</td>\n      <td>80331, 80333, 80335, 80336, 80469, 80538, 80539</td>\n    </tr>\n    <tr>\n      <th>2</th>\n      <td>Au-Haidhausen</td>\n      <td>81541, 81543, 81667, 81669, 81671, 81675, 81677</td>\n    </tr>\n    <tr>\n      <th>3</th>\n      <td>Aubing-Lochhausen-Langwied</td>\n      <td>81243, 81245, 81249</td>\n    </tr>\n    <tr>\n      <th>4</th>\n      <td>Berg am Laim</td>\n      <td>81671, 81673, 81735, 81825</td>\n    </tr>\n  </tbody>\n</table>\n</div>",
                        "text/plain": "                    Stadtteil                                     Postleitzahl\n0         Allach-Untermenzing                80995, 80997, 80999, 81247, 81249\n1              Altstadt-Lehel  80331, 80333, 80335, 80336, 80469, 80538, 80539\n2               Au-Haidhausen  81541, 81543, 81667, 81669, 81671, 81675, 81677\n3  Aubing-Lochhausen-Langwied                              81243, 81245, 81249\n4                Berg am Laim                       81671, 81673, 81735, 81825"
                    },
                    "execution_count": 3,
                    "metadata": {},
                    "output_type": "execute_result"
                }
            ],
            "source": "url = 'https://www.muenchen.de/leben/service/postleitzahlen.html'\ndf_munichPoctcode = pd.read_html(url, header=0)[0]\ndf_munichPoctcode.head()"
        },
        {
            "cell_type": "markdown",
            "metadata": {},
            "source": "\nIn order to work better with the data, the following steps are performed on the dataframe:\n\n1.Rename columns: The column names will be translated to english\n\n2.Restructure Data, that we have one single row for every postal code"
        },
        {
            "cell_type": "code",
            "execution_count": 4,
            "metadata": {},
            "outputs": [
                {
                    "data": {
                        "text/html": "<div>\n<style scoped>\n    .dataframe tbody tr th:only-of-type {\n        vertical-align: middle;\n    }\n\n    .dataframe tbody tr th {\n        vertical-align: top;\n    }\n\n    .dataframe thead th {\n        text-align: right;\n    }\n</style>\n<table border=\"1\" class=\"dataframe\">\n  <thead>\n    <tr style=\"text-align: right;\">\n      <th></th>\n      <th>Borough</th>\n      <th>PostalCode</th>\n    </tr>\n  </thead>\n  <tbody>\n    <tr>\n      <th>0</th>\n      <td>Allach-Untermenzing</td>\n      <td>80995, 80997, 80999, 81247, 81249</td>\n    </tr>\n    <tr>\n      <th>1</th>\n      <td>Altstadt-Lehel</td>\n      <td>80331, 80333, 80335, 80336, 80469, 80538, 80539</td>\n    </tr>\n    <tr>\n      <th>2</th>\n      <td>Au-Haidhausen</td>\n      <td>81541, 81543, 81667, 81669, 81671, 81675, 81677</td>\n    </tr>\n    <tr>\n      <th>3</th>\n      <td>Aubing-Lochhausen-Langwied</td>\n      <td>81243, 81245, 81249</td>\n    </tr>\n    <tr>\n      <th>4</th>\n      <td>Berg am Laim</td>\n      <td>81671, 81673, 81735, 81825</td>\n    </tr>\n  </tbody>\n</table>\n</div>",
                        "text/plain": "                      Borough                                       PostalCode\n0         Allach-Untermenzing                80995, 80997, 80999, 81247, 81249\n1              Altstadt-Lehel  80331, 80333, 80335, 80336, 80469, 80538, 80539\n2               Au-Haidhausen  81541, 81543, 81667, 81669, 81671, 81675, 81677\n3  Aubing-Lochhausen-Langwied                              81243, 81245, 81249\n4                Berg am Laim                       81671, 81673, 81735, 81825"
                    },
                    "execution_count": 4,
                    "metadata": {},
                    "output_type": "execute_result"
                }
            ],
            "source": "#Step 1: Rename columns\ndf_munichPoctcode.rename(columns={'Stadtteil':'Borough', 'Postleitzahl':'PostalCode'}, inplace = True)\ndf_munichPoctcode.head()"
        },
        {
            "cell_type": "markdown",
            "metadata": {},
            "source": "If you look at the column PostalCode, you'll notice, that there are many postal codes in the PostalCode column separated by a comma, each refering to a different area of the borough. As we would like to compare all of them, we need to get all of these postal codes in a separate row."
        },
        {
            "cell_type": "code",
            "execution_count": 5,
            "metadata": {},
            "outputs": [
                {
                    "data": {
                        "text/html": "<div>\n<style scoped>\n    .dataframe tbody tr th:only-of-type {\n        vertical-align: middle;\n    }\n\n    .dataframe tbody tr th {\n        vertical-align: top;\n    }\n\n    .dataframe thead th {\n        text-align: right;\n    }\n</style>\n<table border=\"1\" class=\"dataframe\">\n  <thead>\n    <tr style=\"text-align: right;\">\n      <th></th>\n      <th>Borough</th>\n      <th>PostalCode</th>\n    </tr>\n  </thead>\n  <tbody>\n    <tr>\n      <th>0</th>\n      <td>Allach-Untermenzing</td>\n      <td>80995</td>\n    </tr>\n    <tr>\n      <th>1</th>\n      <td>Allach-Untermenzing</td>\n      <td>80997</td>\n    </tr>\n    <tr>\n      <th>2</th>\n      <td>Allach-Untermenzing</td>\n      <td>80999</td>\n    </tr>\n    <tr>\n      <th>3</th>\n      <td>Allach-Untermenzing</td>\n      <td>81247</td>\n    </tr>\n    <tr>\n      <th>4</th>\n      <td>Allach-Untermenzing</td>\n      <td>81249</td>\n    </tr>\n  </tbody>\n</table>\n</div>",
                        "text/plain": "               Borough PostalCode\n0  Allach-Untermenzing      80995\n1  Allach-Untermenzing      80997\n2  Allach-Untermenzing      80999\n3  Allach-Untermenzing      81247\n4  Allach-Untermenzing      81249"
                    },
                    "execution_count": 5,
                    "metadata": {},
                    "output_type": "execute_result"
                }
            ],
            "source": "#Step 2: Restructure Data\n\n##Save all boroughs in a list\nborough_list = df_munichPoctcode['Borough'].to_list()\nborough_list = list(itertools.chain.from_iterable(itertools.repeat(x, 9) for x in borough_list))\n\n#Save all Postalcodes in a list\ndf_postal = df_munichPoctcode[['PostalCode']].PostalCode.str.split(\",\",expand=True)\npostalcode_list = []\n\ncount = 0\n#Copy all postal codes in one column under each other\nfor element in (range(0,len(df_postal))):\n    postalcode_list.extend(df_postal.iloc[count])\n    count+=1\npostalcode_list\n\n#Combine borough and postal code list in new dataframe \ndf_mucPostcode = pd.DataFrame(list(zip(borough_list, postalcode_list)), columns =['Borough', 'PostalCode']) \ndf_mucPostcode.head(20)\n\n#Drop columns that contain nans\ndf_mucPostcode.dropna(inplace = True)\ndf_mucPostcode.reset_index(drop=True, inplace=True)\ndf_mucPostcode.head()"
        },
        {
            "cell_type": "markdown",
            "metadata": {},
            "source": "### b) Get average price per square meter of appartments in the boroughs of munich in Dataframe:"
        },
        {
            "cell_type": "markdown",
            "metadata": {},
            "source": "In order to get the price per square meter of appartments in the boroughs of munich the webpage: https://www.tz.de/leben/wohnen/uebersicht-muenchner-mieten-preise-nach-postleitzahlen-tz-6133643.html is scraped and the data is stored in a pandas dataframe as shown below:"
        },
        {
            "cell_type": "code",
            "execution_count": 6,
            "metadata": {},
            "outputs": [
                {
                    "data": {
                        "text/html": "<div>\n<style scoped>\n    .dataframe tbody tr th:only-of-type {\n        vertical-align: middle;\n    }\n\n    .dataframe tbody tr th {\n        vertical-align: top;\n    }\n\n    .dataframe thead th {\n        text-align: right;\n    }\n</style>\n<table border=\"1\" class=\"dataframe\">\n  <thead>\n    <tr style=\"text-align: right;\">\n      <th></th>\n      <th>PLZ</th>\n      <th>Miete</th>\n      <th>Trend</th>\n      <th>Kaufpreis</th>\n      <th>Trend.1</th>\n    </tr>\n  </thead>\n  <tbody>\n    <tr>\n      <th>1</th>\n      <td>80995</td>\n      <td>1410.0</td>\n      <td>1,1%</td>\n      <td>5000</td>\n      <td>6,8%</td>\n    </tr>\n    <tr>\n      <th>2</th>\n      <td>80997</td>\n      <td>1325.0</td>\n      <td>-1,9%</td>\n      <td>5430</td>\n      <td>12,4%</td>\n    </tr>\n    <tr>\n      <th>3</th>\n      <td>80999</td>\n      <td>1305.0</td>\n      <td>5,2%</td>\n      <td>5880</td>\n      <td>11,4%</td>\n    </tr>\n    <tr>\n      <th>4</th>\n      <td>81247</td>\n      <td>1455.0</td>\n      <td>2,5%</td>\n      <td>6520</td>\n      <td>1,4%</td>\n    </tr>\n    <tr>\n      <th>5</th>\n      <td>81249</td>\n      <td>1325.0</td>\n      <td>5,6%</td>\n      <td>5100</td>\n      <td>3,4%</td>\n    </tr>\n  </tbody>\n</table>\n</div>",
                        "text/plain": "     PLZ   Miete  Trend Kaufpreis Trend.1\n1  80995  1410.0   1,1%      5000    6,8%\n2  80997  1325.0  -1,9%      5430   12,4%\n3  80999  1305.0   5,2%      5880   11,4%\n4  81247  1455.0   2,5%      6520    1,4%\n5  81249  1325.0   5,6%      5100    3,4%"
                    },
                    "execution_count": 6,
                    "metadata": {},
                    "output_type": "execute_result"
                }
            ],
            "source": "url = 'https://www.tz.de/leben/wohnen/uebersicht-muenchner-mieten-preise-nach-postleitzahlen-tz-6133643.html'\ndf_mucPrice = pd.read_html(url, header=0)[0]\ndf_mucPrice.head(30)\ndf_mucPrice.dropna(inplace = True)\n\ndf_mucPrice.head()"
        },
        {
            "cell_type": "markdown",
            "metadata": {},
            "source": "In order to work better with the data, the following steps are performed on the dataframe:\n\n1.Drop columns that are not needed for further analysis\n\n2.Rename columns: The column names will be translated to english\n\n3.Restructure Data: we would like to have the price per square mether in \u20acinstead of Cents"
        },
        {
            "cell_type": "code",
            "execution_count": 7,
            "metadata": {},
            "outputs": [],
            "source": "#Step 1: Drop columns\ndf_mucPrice.drop([\"Trend\", \"Trend.1\", \"Kaufpreis\"],  axis = 1, inplace = True)"
        },
        {
            "cell_type": "code",
            "execution_count": 9,
            "metadata": {},
            "outputs": [],
            "source": "#Step 2: Rename columns\ndf_mucPrice.rename(columns={'PLZ':'PostalCode', 'Miete':'PricePerm2'}, inplace = True)"
        },
        {
            "cell_type": "code",
            "execution_count": 10,
            "metadata": {},
            "outputs": [
                {
                    "data": {
                        "text/html": "<div>\n<style scoped>\n    .dataframe tbody tr th:only-of-type {\n        vertical-align: middle;\n    }\n\n    .dataframe tbody tr th {\n        vertical-align: top;\n    }\n\n    .dataframe thead th {\n        text-align: right;\n    }\n</style>\n<table border=\"1\" class=\"dataframe\">\n  <thead>\n    <tr style=\"text-align: right;\">\n      <th></th>\n      <th>PostalCode</th>\n      <th>PricePerm2</th>\n    </tr>\n  </thead>\n  <tbody>\n    <tr>\n      <th>1</th>\n      <td>80995</td>\n      <td>14.10</td>\n    </tr>\n    <tr>\n      <th>2</th>\n      <td>80997</td>\n      <td>13.25</td>\n    </tr>\n    <tr>\n      <th>3</th>\n      <td>80999</td>\n      <td>13.05</td>\n    </tr>\n    <tr>\n      <th>4</th>\n      <td>81247</td>\n      <td>14.55</td>\n    </tr>\n    <tr>\n      <th>5</th>\n      <td>81249</td>\n      <td>13.25</td>\n    </tr>\n  </tbody>\n</table>\n</div>",
                        "text/plain": "  PostalCode  PricePerm2\n1      80995       14.10\n2      80997       13.25\n3      80999       13.05\n4      81247       14.55\n5      81249       13.25"
                    },
                    "execution_count": 10,
                    "metadata": {},
                    "output_type": "execute_result"
                }
            ],
            "source": "#Step 3: Restructure Data\ndf_mucPrice[\"PricePerm2\"] = df_mucPrice[\"PricePerm2\"] /100\ndf_mucPrice.head()"
        },
        {
            "cell_type": "markdown",
            "metadata": {},
            "source": "### c) Concat the dataframe a and b to get a single dataframe"
        },
        {
            "cell_type": "code",
            "execution_count": 11,
            "metadata": {},
            "outputs": [],
            "source": "df_mucPostcode[\"PostalCode\"] = df_mucPostcode[\"PostalCode\"].astype(int) \ndf_mucPrice[\"PostalCode\"] = df_mucPrice[\"PostalCode\"].astype(int) \ndf_mucPrice.set_index(['PostalCode'], inplace = True)\ndf_mucPostcode.set_index(['PostalCode'],inplace = True)"
        },
        {
            "cell_type": "code",
            "execution_count": 12,
            "metadata": {},
            "outputs": [
                {
                    "name": "stdout",
                    "output_type": "stream",
                    "text": "There are 127 different postal codes in munich. However, we only have prices for 69 postal codes\n"
                }
            ],
            "source": "print(\"There are {} different postal codes in munich. However, we only have prices for {} postal codes\".format(df_mucPostcode.shape[0], df_mucPrice.shape[0]))"
        },
        {
            "cell_type": "code",
            "execution_count": 13,
            "metadata": {},
            "outputs": [
                {
                    "data": {
                        "text/html": "<div>\n<style scoped>\n    .dataframe tbody tr th:only-of-type {\n        vertical-align: middle;\n    }\n\n    .dataframe tbody tr th {\n        vertical-align: top;\n    }\n\n    .dataframe thead th {\n        text-align: right;\n    }\n</style>\n<table border=\"1\" class=\"dataframe\">\n  <thead>\n    <tr style=\"text-align: right;\">\n      <th></th>\n      <th>PostalCode</th>\n      <th>Borough</th>\n      <th>PricePerm2</th>\n      <th>New Price</th>\n    </tr>\n  </thead>\n  <tbody>\n    <tr>\n      <th>0</th>\n      <td>80331</td>\n      <td>Altstadt-Lehel</td>\n      <td>22.3</td>\n      <td>22.3</td>\n    </tr>\n    <tr>\n      <th>1</th>\n      <td>80333</td>\n      <td>Altstadt-Lehel</td>\n      <td>19.1</td>\n      <td>19.1</td>\n    </tr>\n    <tr>\n      <th>2</th>\n      <td>80333</td>\n      <td>Altstadt-Lehel</td>\n      <td>19.1</td>\n      <td>19.1</td>\n    </tr>\n    <tr>\n      <th>3</th>\n      <td>80333</td>\n      <td>Maxvorstadt</td>\n      <td>19.1</td>\n      <td>19.1</td>\n    </tr>\n    <tr>\n      <th>4</th>\n      <td>80333</td>\n      <td>Maxvorstadt</td>\n      <td>19.1</td>\n      <td>19.1</td>\n    </tr>\n  </tbody>\n</table>\n</div>",
                        "text/plain": "   PostalCode         Borough  PricePerm2  New Price\n0       80331  Altstadt-Lehel        22.3       22.3\n1       80333  Altstadt-Lehel        19.1       19.1\n2       80333  Altstadt-Lehel        19.1       19.1\n3       80333     Maxvorstadt        19.1       19.1\n4       80333     Maxvorstadt        19.1       19.1"
                    },
                    "execution_count": 13,
                    "metadata": {},
                    "output_type": "execute_result"
                }
            ],
            "source": "#Join Dataframes\ndf_munich = df_mucPostcode.join(df_mucPrice)\ndf_munich.reset_index(inplace = True)\n\n\n#Group values based on their borough and calculate mean price\ndf_munich_grouped = df_munich.groupby('Borough').mean()\ndf_munich_grouped\n\n##If there is a NaN, replace the NaN with the mean price for this region, calculated in the previous step\npricelist = []\n\nfor index in range(0,len(df_munich[\"PricePerm2\"])):\n    \n    if (np.isnan( df_munich.loc[index,\"PricePerm2\"] )== True):\n        pricelist.append(df_munich_grouped.loc[df_munich.loc[index,\"Borough\"],\"PricePerm2\"])\n    else:\n        pricelist.append(df_munich.loc[index,\"PricePerm2\"])\n    \ndf_price = pd.DataFrame(pricelist, columns=['New Price'])   \ndf_muc = df_munich.join(df_price)\ndf_muc.head()"
        },
        {
            "cell_type": "code",
            "execution_count": 14,
            "metadata": {},
            "outputs": [
                {
                    "data": {
                        "text/html": "<div>\n<style scoped>\n    .dataframe tbody tr th:only-of-type {\n        vertical-align: middle;\n    }\n\n    .dataframe tbody tr th {\n        vertical-align: top;\n    }\n\n    .dataframe thead th {\n        text-align: right;\n    }\n</style>\n<table border=\"1\" class=\"dataframe\">\n  <thead>\n    <tr style=\"text-align: right;\">\n      <th></th>\n      <th>PostalCode</th>\n      <th>Borough</th>\n      <th>PricePerm2</th>\n    </tr>\n  </thead>\n  <tbody>\n    <tr>\n      <th>0</th>\n      <td>80331</td>\n      <td>Altstadt-Lehel</td>\n      <td>22.3</td>\n    </tr>\n    <tr>\n      <th>1</th>\n      <td>80333</td>\n      <td>Altstadt-Lehel</td>\n      <td>19.1</td>\n    </tr>\n    <tr>\n      <th>2</th>\n      <td>80333</td>\n      <td>Altstadt-Lehel</td>\n      <td>19.1</td>\n    </tr>\n    <tr>\n      <th>3</th>\n      <td>80333</td>\n      <td>Maxvorstadt</td>\n      <td>19.1</td>\n    </tr>\n    <tr>\n      <th>4</th>\n      <td>80333</td>\n      <td>Maxvorstadt</td>\n      <td>19.1</td>\n    </tr>\n  </tbody>\n</table>\n</div>",
                        "text/plain": "   PostalCode         Borough  PricePerm2\n0       80331  Altstadt-Lehel        22.3\n1       80333  Altstadt-Lehel        19.1\n2       80333  Altstadt-Lehel        19.1\n3       80333     Maxvorstadt        19.1\n4       80333     Maxvorstadt        19.1"
                    },
                    "execution_count": 14,
                    "metadata": {},
                    "output_type": "execute_result"
                }
            ],
            "source": "#Drop column PricePerm2 and make column \"new Price\" as new priceperm2\ndf_muc.drop([\"PricePerm2\"],  axis = 1, inplace = True)\ndf_muc.rename(columns={'New Price':'PricePerm2'}, inplace = True)\ndf_muc.head()"
        },
        {
            "cell_type": "code",
            "execution_count": 15,
            "metadata": {},
            "outputs": [
                {
                    "data": {
                        "text/plain": "PostalCode    0\nBorough       0\nPricePerm2    5\ndtype: int64"
                    },
                    "execution_count": 15,
                    "metadata": {},
                    "output_type": "execute_result"
                }
            ],
            "source": "#Check if there are NANs in the data\ndf_muc.isnull().sum(axis = 0)"
        },
        {
            "cell_type": "markdown",
            "metadata": {},
            "source": "\nAs it can be seen, there are still 5 rows with NANs in the dataframe. The following rows still contain NANs:"
        },
        {
            "cell_type": "code",
            "execution_count": 16,
            "metadata": {},
            "outputs": [
                {
                    "data": {
                        "text/html": "<div>\n<style scoped>\n    .dataframe tbody tr th:only-of-type {\n        vertical-align: middle;\n    }\n\n    .dataframe tbody tr th {\n        vertical-align: top;\n    }\n\n    .dataframe thead th {\n        text-align: right;\n    }\n</style>\n<table border=\"1\" class=\"dataframe\">\n  <thead>\n    <tr style=\"text-align: right;\">\n      <th></th>\n      <th>PostalCode</th>\n      <th>Borough</th>\n      <th>PricePerm2</th>\n    </tr>\n  </thead>\n  <tbody>\n    <tr>\n      <th>123</th>\n      <td>81379</td>\n      <td>Thalkirchen-Obersendling-F\u00fcrstenried-Forstenri...</td>\n      <td>NaN</td>\n    </tr>\n    <tr>\n      <th>124</th>\n      <td>81475</td>\n      <td>Thalkirchen-Obersendling-F\u00fcrstenried-Forstenri...</td>\n      <td>NaN</td>\n    </tr>\n    <tr>\n      <th>125</th>\n      <td>81476</td>\n      <td>Thalkirchen-Obersendling-F\u00fcrstenried-Forstenri...</td>\n      <td>NaN</td>\n    </tr>\n    <tr>\n      <th>126</th>\n      <td>81477</td>\n      <td>Thalkirchen-Obersendling-F\u00fcrstenried-Forstenri...</td>\n      <td>NaN</td>\n    </tr>\n    <tr>\n      <th>127</th>\n      <td>81479</td>\n      <td>Thalkirchen-Obersendling-F\u00fcrstenried-Forstenri...</td>\n      <td>NaN</td>\n    </tr>\n  </tbody>\n</table>\n</div>",
                        "text/plain": "     PostalCode                                            Borough  PricePerm2\n123       81379  Thalkirchen-Obersendling-F\u00fcrstenried-Forstenri...         NaN\n124       81475  Thalkirchen-Obersendling-F\u00fcrstenried-Forstenri...         NaN\n125       81476  Thalkirchen-Obersendling-F\u00fcrstenried-Forstenri...         NaN\n126       81477  Thalkirchen-Obersendling-F\u00fcrstenried-Forstenri...         NaN\n127       81479  Thalkirchen-Obersendling-F\u00fcrstenried-Forstenri...         NaN"
                    },
                    "execution_count": 16,
                    "metadata": {},
                    "output_type": "execute_result"
                }
            ],
            "source": "df_muc[df_muc['PricePerm2'].isnull()]"
        },
        {
            "cell_type": "markdown",
            "metadata": {},
            "source": "As you can see all of the remaining NaN values are in the borough Thalkirchen-Obersendling-F\u00fcrstenried-Forstenried-Solln, where we do not have any reference value. That is why these rows are dropped. Thalkirchen-Obersendling-F\u00fcrstenried-Forstenried-Solln is not used in the further investigation."
        },
        {
            "cell_type": "code",
            "execution_count": 17,
            "metadata": {},
            "outputs": [],
            "source": "#Drop lines with NANs\ndf_muc.dropna(subset=['PricePerm2'], inplace = True)\n\n#Check again that there are no NANs in the data\ndf_muc.isnull().sum(axis = 0)\n\n#reset index\ndf_muc.reset_index(drop=True, inplace=True)"
        },
        {
            "cell_type": "markdown",
            "metadata": {},
            "source": "### d) Get latitude and longitude for each borough"
        },
        {
            "cell_type": "markdown",
            "metadata": {},
            "source": "The Geocoder Python package (https://geocoder.readthedocs.io/index.html) is used to get the coordinates (latitude and longitude) for all of the neighborhoods of munich. Therefore a function is defined, that takes as input parameters postalcode and borogh and gives back the latitude and longitude of the specific postalcode and borogh:"
        },
        {
            "cell_type": "code",
            "execution_count": 18,
            "metadata": {},
            "outputs": [],
            "source": "##Define function that returns latitude and longitude \ndef get_cordinates(postalcode, borogh):\n    lat_lng_coords = None\n    while(lat_lng_coords is None):\n        g = geocoder.arcgis('{}, {}'.format(postalcode, borogh))\n        lat_lng_coords = g.latlng\n        latitude = lat_lng_coords[0]\n        longitude = lat_lng_coords[1]\n    return latitude, longitude\n\n\n#Loop through dataframe, that calls for every row the \"get_coordinates\" function and adds the latitude and longitude \n##in a new column\nfor rownr in range(0,df_muc.shape[0]):\n    postalcode = df_muc.loc[rownr, 'PostalCode'] \n    borogh = df_muc.loc[rownr, 'Borough'] \n    lat, lon = get_cordinates(postalcode, borogh)\n    df_muc.loc[df_muc.index[rownr], 'Latitude'] = lat\n    df_muc.loc[df_muc.index[rownr], 'Longitude'] = lon"
        },
        {
            "cell_type": "code",
            "execution_count": 19,
            "metadata": {},
            "outputs": [
                {
                    "data": {
                        "text/html": "<div>\n<style scoped>\n    .dataframe tbody tr th:only-of-type {\n        vertical-align: middle;\n    }\n\n    .dataframe tbody tr th {\n        vertical-align: top;\n    }\n\n    .dataframe thead th {\n        text-align: right;\n    }\n</style>\n<table border=\"1\" class=\"dataframe\">\n  <thead>\n    <tr style=\"text-align: right;\">\n      <th></th>\n      <th>PostalCode</th>\n      <th>Borough</th>\n      <th>PricePerm2</th>\n      <th>Latitude</th>\n      <th>Longitude</th>\n    </tr>\n  </thead>\n  <tbody>\n    <tr>\n      <th>0</th>\n      <td>80331</td>\n      <td>Altstadt-Lehel</td>\n      <td>22.3</td>\n      <td>48.13487</td>\n      <td>11.581988</td>\n    </tr>\n    <tr>\n      <th>1</th>\n      <td>80333</td>\n      <td>Altstadt-Lehel</td>\n      <td>19.1</td>\n      <td>48.13641</td>\n      <td>11.577540</td>\n    </tr>\n    <tr>\n      <th>2</th>\n      <td>80333</td>\n      <td>Altstadt-Lehel</td>\n      <td>19.1</td>\n      <td>48.13641</td>\n      <td>11.577540</td>\n    </tr>\n    <tr>\n      <th>3</th>\n      <td>80333</td>\n      <td>Maxvorstadt</td>\n      <td>19.1</td>\n      <td>48.14582</td>\n      <td>11.565170</td>\n    </tr>\n    <tr>\n      <th>4</th>\n      <td>80333</td>\n      <td>Maxvorstadt</td>\n      <td>19.1</td>\n      <td>48.14582</td>\n      <td>11.565170</td>\n    </tr>\n  </tbody>\n</table>\n</div>",
                        "text/plain": "   PostalCode         Borough  PricePerm2  Latitude  Longitude\n0       80331  Altstadt-Lehel        22.3  48.13487  11.581988\n1       80333  Altstadt-Lehel        19.1  48.13641  11.577540\n2       80333  Altstadt-Lehel        19.1  48.13641  11.577540\n3       80333     Maxvorstadt        19.1  48.14582  11.565170\n4       80333     Maxvorstadt        19.1  48.14582  11.565170"
                    },
                    "execution_count": 19,
                    "metadata": {},
                    "output_type": "execute_result"
                }
            ],
            "source": "#check if the latitude and longitude is added in the dataframe\ndf_muc.head()\n"
        },
        {
            "cell_type": "markdown",
            "metadata": {},
            "source": "Now this dataframe ( _dfmuc ) can be used for data exploration. It will be used to compare the price per square meter of the apartments of the different boroughs."
        },
        {
            "cell_type": "markdown",
            "metadata": {},
            "source": "### e) Get the latitude and longitude of Johns current home"
        },
        {
            "cell_type": "code",
            "execution_count": 20,
            "metadata": {},
            "outputs": [
                {
                    "name": "stdout",
                    "output_type": "stream",
                    "text": "The geograpical coordinate of Johns current home, Gollierstra\u00dfe 6 are 48.1358166, 11.5466346.\n"
                }
            ],
            "source": "address = 'Gollierstr 6, 80339'\n\ngeolocator = Nominatim(user_agent=\"ny_explorer\")\nlocation = geolocator.geocode(address)\nlat_home = location.latitude\nlon_home = location.longitude\nprint('The geograpical coordinate of Johns current home, Gollierstra\u00dfe 6 are {}, {}.'.format(lat_home, lon_home))"
        },
        {
            "cell_type": "markdown",
            "metadata": {},
            "source": "### f) Use FourSquare to explore the area around the boroughs"
        },
        {
            "cell_type": "markdown",
            "metadata": {},
            "source": "To be able to use the Define Foursquare API, the Foresquare Credentials and Version needs to be defines:"
        },
        {
            "cell_type": "code",
            "execution_count": 21,
            "metadata": {},
            "outputs": [
                {
                    "name": "stdout",
                    "output_type": "stream",
                    "text": "Your credentails:\nCLIENT_ID: JUXGOHSTUZBHY4TNZETAMLKLVGXGCVIMN2ASLNCG0TXTRQT2\nCLIENT_SECRET:MTE0QUIATNCHWK5YZD3KB50GRTD0HWW2V2NALDXGVOKDOCWC\n"
                }
            ],
            "source": "CLIENT_ID = 'JUXGOHSTUZBHY4TNZETAMLKLVGXGCVIMN2ASLNCG0TXTRQT2' # your Foursquare ID\nCLIENT_SECRET = 'MTE0QUIATNCHWK5YZD3KB50GRTD0HWW2V2NALDXGVOKDOCWC' # your Foursquare Secret\nVERSION = '20180605' # Foursquare API version\nLIMIT = 30 \nradius = 500 \nprint('Your credentails:')\nprint('CLIENT_ID: ' + CLIENT_ID)\nprint('CLIENT_SECRET:' + CLIENT_SECRET)"
        },
        {
            "cell_type": "markdown",
            "metadata": {},
            "source": "A function is defined, that takes as input the borough as well as the latitude and longitude and gives back the venues around the location provided:"
        },
        {
            "cell_type": "code",
            "execution_count": 25,
            "metadata": {},
            "outputs": [],
            "source": "def getNearbyVenues(names, latitudes, longitudes, radius=500):\n    \n    venues_list=[]\n    for name, lat, lng in zip(names, latitudes, longitudes):\n        print(name)\n            \n        # create the API request URL\n        url = 'https://api.foursquare.com/v2/venues/explore?&client_id={}&client_secret={}&v={}&ll={},{}&radius={}&limit={}'.format(\n            CLIENT_ID, \n            CLIENT_SECRET, \n            VERSION, \n            lat, \n            lng, \n            radius, \n            LIMIT)\n            \n        # make the GET request\n        results = requests.get(url).json()[\"response\"]['groups'][0]['items']\n        \n        # return only relevant information for each nearby venue\n        venues_list.append([(\n            name, \n            lat, \n            lng, \n            v['venue']['name'], \n            v['venue']['location']['lat'], \n            v['venue']['location']['lng'],  \n            v['venue']['categories'][0]['name']) for v in results])\n\n    nearby_venues = pd.DataFrame([item for venue_list in venues_list for item in venue_list])\n    nearby_venues.columns = ['Neighborhood', \n                  'Neighborhood Latitude', \n                  'Neighborhood Longitude', \n                  'Venue', \n                  'Venue Latitude', \n                  'Venue Longitude', \n                  'Venue Category']\n    \n    return(nearby_venues)"
        },
        {
            "cell_type": "code",
            "execution_count": 26,
            "metadata": {},
            "outputs": [
                {
                    "name": "stdout",
                    "output_type": "stream",
                    "text": "Altstadt-Lehel\nAltstadt-Lehel\nAltstadt-Lehel\nMaxvorstadt\nMaxvorstadt\nAltstadt-Lehel\nAltstadt-Lehel\nAltstadt-Lehel\nLudwigsvorstadt-Isarvorstadt\nLudwigsvorstadt-Isarvorstadt\nLudwigsvorstadt-Isarvorstadt\nMaxvorstadt\nMaxvorstadt\nMaxvorstadt\nSchwanthalerh\u00f6he\nSchwanthalerh\u00f6he\nSchwanthalerh\u00f6he\nAltstadt-Lehel\nAltstadt-Lehel\nAltstadt-Lehel\nLudwigsvorstadt-Isarvorstadt\nLudwigsvorstadt-Isarvorstadt\nLudwigsvorstadt-Isarvorstadt\nSendling\nSendling\nSendling\nLudwigsvorstadt-Isarvorstadt\nSendling\nSchwanthalerh\u00f6he\nAltstadt-Lehel\nAltstadt-Lehel\nLudwigsvorstadt-Isarvorstadt\nLudwigsvorstadt-Isarvorstadt\nSendling\nSendling\nAltstadt-Lehel\nSchwabing-Freimann\nAltstadt-Lehel\nAltstadt-Lehel\nMaxvorstadt\nMaxvorstadt\nNeuhausen-Nymphenburg\nMaxvorstadt\nMaxvorstadt\nNeuhausen-Nymphenburg\nNeuhausen-Nymphenburg\nMoosach\nMoosach\nNeuhausen-Nymphenburg\nNeuhausen-Nymphenburg\nMoosach\nMoosach\nNeuhausen-Nymphenburg\nNeuhausen-Nymphenburg\nNeuhausen-Nymphenburg\nLaim\nSendling-Westpark\nLaim\nPasing-Obermenzing\nHadern\nHadern\nLaim\nLaim\nPasing-Obermenzing\nPasing-Obermenzing\nSchwabing-West\nMaxvorstadt\nSchwabing-West\nMaxvorstadt\nSchwabing-West\nMaxvorstadt\nSchwabing-West\nMaxvorstadt\nSchwabing-Freimann\nSchwabing-West\nMaxvorstadt\nSchwabing-Freimann\nSchwabing-Freimann\nSchwabing-West\nSchwabing-Freimann\nSchwabing-West\nSchwabing-Freimann\nMilbertshofen-Am Hart\nSchwabing-Freimann\nMilbertshofen-Am Hart\nSchwabing-West\nFeldmoching-Hasenbergl\nFeldmoching-Hasenbergl\nMilbertshofen-Am Hart\nMilbertshofen-Am Hart\nSchwabing-Freimann\nMoosach\nMoosach\nAllach-Untermenzing\nAllach-Untermenzing\nFeldmoching-Hasenbergl\nFeldmoching-Hasenbergl\nAllach-Untermenzing\nAllach-Untermenzing\nMoosach\nMoosach\nAllach-Untermenzing\nPasing-Obermenzing\nAubing-Lochhausen-Langwied\nPasing-Obermenzing\nAubing-Lochhausen-Langwied\nPasing-Obermenzing\nAllach-Untermenzing\nPasing-Obermenzing\nAllach-Untermenzing\nAllach-Untermenzing\nAubing-Lochhausen-Langwied\nAubing-Lochhausen-Langwied\nSendling\nSendling-Westpark\nSendling\nSendling\nSendling-Westpark\nHadern\nHadern\nSendling-Westpark\nSendling\nSendling-Westpark\nObergiesing\nRamersdorf-Perlach\nAu-Haidhausen\nObergiesing\nAu-Haidhausen\nUntergiesing-Harlaching\nUntergiesing-Harlaching\nObergiesing\nUntergiesing-Harlaching\nObergiesing\nRamersdorf-Perlach\nAu-Haidhausen\nAu-Haidhausen\nRamersdorf-Perlach\nAu-Haidhausen\nAu-Haidhausen\nBerg am Laim\nBerg am Laim\nRamersdorf-Perlach\nRamersdorf-Perlach\nBerg am Laim\nAu-Haidhausen\nAu-Haidhausen\nBogenhausen\nBogenhausen\nAu-Haidhausen\nAu-Haidhausen\nBogenhausen\nBogenhausen\nBogenhausen\nBerg am Laim\nRamersdorf-Perlach\nTrudering-Riem\nRamersdorf-Perlach\nRamersdorf-Perlach\nBerg am Laim\nTrudering-Riem\nTrudering-Riem\nTrudering-Riem\nBogenhausen\nBogenhausen\nBogenhausen\n"
                }
            ],
            "source": "muc_venues = getNearbyVenues(names=df_muc['Borough'],\n                                   latitudes=df_muc['Latitude'],\n                                   longitudes=df_muc['Longitude']\n                                   )"
        },
        {
            "cell_type": "code",
            "execution_count": 27,
            "metadata": {},
            "outputs": [
                {
                    "data": {
                        "text/html": "<div>\n<style scoped>\n    .dataframe tbody tr th:only-of-type {\n        vertical-align: middle;\n    }\n\n    .dataframe tbody tr th {\n        vertical-align: top;\n    }\n\n    .dataframe thead th {\n        text-align: right;\n    }\n</style>\n<table border=\"1\" class=\"dataframe\">\n  <thead>\n    <tr style=\"text-align: right;\">\n      <th></th>\n      <th>Neighborhood</th>\n      <th>Neighborhood Latitude</th>\n      <th>Neighborhood Longitude</th>\n      <th>Venue</th>\n      <th>Venue Latitude</th>\n      <th>Venue Longitude</th>\n      <th>Venue Category</th>\n    </tr>\n  </thead>\n  <tbody>\n    <tr>\n      <th>0</th>\n      <td>Altstadt-Lehel</td>\n      <td>48.13487</td>\n      <td>11.581988</td>\n      <td>Little London</td>\n      <td>48.135562</td>\n      <td>11.580961</td>\n      <td>Steakhouse</td>\n    </tr>\n    <tr>\n      <th>1</th>\n      <td>Altstadt-Lehel</td>\n      <td>48.13487</td>\n      <td>11.581988</td>\n      <td>Gasthaus Isarthor</td>\n      <td>48.134928</td>\n      <td>11.583601</td>\n      <td>German Restaurant</td>\n    </tr>\n    <tr>\n      <th>2</th>\n      <td>Altstadt-Lehel</td>\n      <td>48.13487</td>\n      <td>11.581988</td>\n      <td>OOH BABY I LIKE IT RAW</td>\n      <td>48.134023</td>\n      <td>11.580400</td>\n      <td>Caf\u00e9</td>\n    </tr>\n    <tr>\n      <th>3</th>\n      <td>Altstadt-Lehel</td>\n      <td>48.13487</td>\n      <td>11.581988</td>\n      <td>Mandarin Oriental Munich</td>\n      <td>48.137257</td>\n      <td>11.580779</td>\n      <td>Hotel</td>\n    </tr>\n    <tr>\n      <th>4</th>\n      <td>Altstadt-Lehel</td>\n      <td>48.13487</td>\n      <td>11.581988</td>\n      <td>Bar Centrale</td>\n      <td>48.136821</td>\n      <td>11.579873</td>\n      <td>Caf\u00e9</td>\n    </tr>\n  </tbody>\n</table>\n</div>",
                        "text/plain": "     Neighborhood  Neighborhood Latitude  Neighborhood Longitude  \\\n0  Altstadt-Lehel               48.13487               11.581988   \n1  Altstadt-Lehel               48.13487               11.581988   \n2  Altstadt-Lehel               48.13487               11.581988   \n3  Altstadt-Lehel               48.13487               11.581988   \n4  Altstadt-Lehel               48.13487               11.581988   \n\n                      Venue  Venue Latitude  Venue Longitude  \\\n0             Little London       48.135562        11.580961   \n1         Gasthaus Isarthor       48.134928        11.583601   \n2    OOH BABY I LIKE IT RAW       48.134023        11.580400   \n3  Mandarin Oriental Munich       48.137257        11.580779   \n4              Bar Centrale       48.136821        11.579873   \n\n      Venue Category  \n0         Steakhouse  \n1  German Restaurant  \n2               Caf\u00e9  \n3              Hotel  \n4               Caf\u00e9  "
                    },
                    "execution_count": 27,
                    "metadata": {},
                    "output_type": "execute_result"
                }
            ],
            "source": "muc_venues.head()"
        },
        {
            "cell_type": "markdown",
            "metadata": {},
            "source": "For the further analysis, we now have the following data(frames):\n\n1.df_muc: Contains the average price per m\u00b2 of the apartments in Munich. This dataframe is used to compare the average price per square meter of the boroughs in Munich with the actual price per square meter of Johns apartment.\n\n2.muc_venues: Contains all the venues in the boroughs of munich. This dataframe is used to find borrouoghs that fits most Johns requirements.\nIn addition to that, we know that Johns home is in Gollierstr 6, 80339 with latitude and longitude of 48.1358166 and 11.5466346."
        },
        {
            "cell_type": "code",
            "execution_count": null,
            "metadata": {},
            "outputs": [],
            "source": ""
        }
    ],
    "metadata": {
        "kernelspec": {
            "display_name": "Python 3.7",
            "language": "python",
            "name": "python3"
        },
        "language_info": {
            "codemirror_mode": {
                "name": "ipython",
                "version": 3
            },
            "file_extension": ".py",
            "mimetype": "text/x-python",
            "name": "python",
            "nbconvert_exporter": "python",
            "pygments_lexer": "ipython3",
            "version": "3.7.10"
        }
    },
    "nbformat": 4,
    "nbformat_minor": 1
}