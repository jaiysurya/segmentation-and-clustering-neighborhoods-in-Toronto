{
    "cells": [
        {
            "cell_type": "markdown",
            "metadata": {
                "collapsed": true
            },
            "source": "### Capstone Project: The Battle of Neighborhoods (week 1)"
        },
        {
            "cell_type": "markdown",
            "metadata": {},
            "source": "For this week, you are required to submit the following: _Clearly define a problem or an idea of your choice, where you would need to leverage the Foursquare location data to solve or execute. Remember that data science problems always target an audience and are meant to help a group of stakeholders solve a problem, so make sure that you explicitly describe your audience and why they would care about your problem.\n\nThis submission will eventually become your Introduction/Business Problem section in your final report. So I recommend that you push the report (having your Introduction/Business Problem section only for now) to your Github repository and submit a link to it.\n\nA description of the problem and a discussion of the background. (15 marks)"
        },
        {
            "cell_type": "markdown",
            "metadata": {},
            "source": "### 1. Introduction"
        },
        {
            "cell_type": "markdown",
            "metadata": {},
            "source": "In this section a description of the problem and a discussion of the background is provided"
        },
        {
            "cell_type": "markdown",
            "metadata": {},
            "source": "### 1.1 Background Information"
        },
        {
            "cell_type": "markdown",
            "metadata": {},
            "source": "Almost everyone is moving from one place to another - at least once in a lifetime. Starting to study in a new city, during a semester abroad, after changing the job, or moving together with a new partner are only some of the reasons why people would find a new place to live. Besides the price of the housing, another important factor is its surrounding. When moving to another place, people most likely would like to find a place that is comparable to the current home to feel comfortable. Even though different people put emphasis on different venues: For example, for some it might be interesting to have a park nearby, while other prefer good restaurants or grocery stores nearby - they all have the same problem in common: How to find a place that meets the personal requirements? In this report we will answer this question using Data Science Methods."
        },
        {
            "cell_type": "markdown",
            "metadata": {},
            "source": "### 1. 2 Problem statement: Where should John move within Munich"
        },
        {
            "cell_type": "markdown",
            "metadata": {},
            "source": "In this report, we are trying to find a borough in Munich for John, where he most likely would feel comfortable. John is 27 years old and is currently living in Schwanthalerh\u00f6he, 80335. He really enjoys living there. Unfortunately, his landlord needs the apartment for himself - that is why John needs to move to another place. Schwanthalerh\u00f6he is directly located at the Theresienwiese, a park where John starts his day with running and grabbing a coffee afterwards. That is why it would be nice to have a park and coffee store close to the new home. John works for a big consulting company, that is why he comes home pretty late. It would therefore be good to have a grocery store nearby. When it is getting too late at work, he likes to grab dinner in a restaurant. That is why it would be a plus to have bars or restaurants close to his home. The price per m\u00b2 from his current appartment is: 34.29\u20ac/m\u00b2. Finding one with lower price/m\u00b2 would be perfect. Summarized, John would most likely enjoy to have the following venues nearby:\n\npark nearby\ncoffee store\nrestaurants & bars\ngrocery store\nIf possible, cheaper price per m\u00b2 than the current apartment (34.29\u20ac/m\u00b2)\nAll in all, John really loves his current borough, that is why we need to find out in addition, which of the other boroughs is most similar to the one he is currently living in. We will use data science methods to identify the most promissing neighborhoods based on these criteria."
        },
        {
            "cell_type": "markdown",
            "metadata": {},
            "source": "### 1. 3 Target audience for this report"
        },
        {
            "cell_type": "markdown",
            "metadata": {},
            "source": "This report is an analysis of the boroughs in Munich customized to the needs of John (park, coffee store... nearby). However, the approach is applicable to all people with any specific needs. The information gathered from FourSquare in combination with data science methods are a good basis to derive data driven decisions regarding boroughs that best fit the specific needs at hand. It would even be possible for real estate agents to use some similar approaches to find the perfect home for their customers."
        },
        {
            "cell_type": "code",
            "execution_count": null,
            "metadata": {},
            "outputs": [],
            "source": ""
        }
    ],
    "metadata": {
        "kernelspec": {
            "display_name": "Python 3.7",
            "language": "python",
            "name": "python3"
        },
        "language_info": {
            "codemirror_mode": {
                "name": "ipython",
                "version": 3
            },
            "file_extension": ".py",
            "mimetype": "text/x-python",
            "name": "python",
            "nbconvert_exporter": "python",
            "pygments_lexer": "ipython3",
            "version": "3.7.10"
        }
    },
    "nbformat": 4,
    "nbformat_minor": 1
}